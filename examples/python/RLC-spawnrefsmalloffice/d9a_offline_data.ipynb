{
 "cells": [
  {
   "cell_type": "code",
   "execution_count": 64,
   "metadata": {},
   "outputs": [],
   "source": [
    "import numpy as np; import pandas as pd; import os \n",
    "from d6_functions import *\n",
    "from RL_functions import *\n",
    "from IPython.display import clear_output\n",
    "\n",
    "path = 'RL_Data/01_RBC/03_Data/'\n",
    "\n",
    "data_files = os.listdir(path)\n",
    "price = {'energy': 0.0984, 't_disc': 0.8, 'dr_price': 7.89 }\n",
    "\n",
    "'''Define empty dataframe '''\n",
    "df_all = pd.DataFrame()\n",
    "\n",
    "for file in data_files:      \n",
    "     data_pd = pd.read_csv(path+file,converters={'action': pd.eval})  \n",
    "     data_pd['next_state'] = data_pd['state'].shift(-1)\n",
    "     data_pd['act'] = data_pd['action'].map(lambda x: x[0])\n",
    "     data_pd = data_pd[:-1]   \n",
    "     df_all = pd.concat([df_all, data_pd])\n"
   ]
  },
  {
   "cell_type": "code",
   "execution_count": 65,
   "metadata": {},
   "outputs": [],
   "source": [
    "def get_w(oa_air,hours,dr_start_time,dr_end_time):\n",
    "     if oa_air<21:\n",
    "          dif = (21-oa_air)\n",
    "          s =  dif\n",
    "     else:\n",
    "          s=1\n",
    "\n",
    "     if (hours >= dr_start_time) & (hours< dr_end_time):                       \n",
    "          dr_power_limit = 9000 \n",
    "          w = [-100, -1, -50]               \n",
    "     else:                        \n",
    "          dr_power_limit = 30000\n",
    "          w = [-200*s, -1, 0]\n",
    "\n",
    "     return w  \n",
    "     "
   ]
  },
  {
   "cell_type": "code",
   "execution_count": null,
   "metadata": {},
   "outputs": [],
   "source": [
    "len(df_all)"
   ]
  },
  {
   "cell_type": "code",
   "execution_count": 66,
   "metadata": {},
   "outputs": [],
   "source": [
    "rewards = []\n",
    "\n",
    "for i in range(len(df_all)):\n",
    "     print (\"percentage: {}\".format(i/len(df_all)))\n",
    "     hours = df_all.iloc[i].senHouDec_y\n",
    "     hvac_energy = df_all.iloc[i].hvac_energy_Z0+df_all.iloc[i].hvac_energy_Z1+df_all.iloc[i].hvac_energy_Z2+df_all.iloc[i].hvac_energy_Z3+df_all.iloc[i].hvac_energy_Z4\n",
    "     tdisc = df_all.iloc[i].thermal_discomfort_Z0+df_all.iloc[i].thermal_discomfort_Z1+df_all.iloc[i].thermal_discomfort_Z2+df_all.iloc[i].thermal_discomfort_Z3+df_all.iloc[i].thermal_discomfort_Z4\n",
    "     ppen = df_all.iloc[i].power_pen\n",
    "     hours = df_all.iloc[i].senHouDec_y\n",
    "     dr_start_time = df_all.iloc[i].dr_start_time\n",
    "     dr_end_time = df_all.iloc[i].dr_end_time\n",
    "     oa_air = df_all.iloc[i].senTemOA_y - 273.15\n",
    "\n",
    "     occupancy  = get_occupancy(hours)\n",
    "\n",
    "     energy_cost =  price['energy'] * hvac_energy\n",
    "     tdisc_cost = price['t_disc'] * tdisc * occupancy \n",
    "     ppen_cost = price['dr_price'] * ppen\n",
    "\n",
    "     w = get_w(oa_air,hours,dr_start_time,dr_end_time)\n",
    "     reward_dqn = w[0]*energy_cost + w[1]*tdisc_cost+ w[2]*ppen_cost\n",
    "     rewards.append(reward_dqn)\n",
    "     # clear_output(wait=False)\n",
    "\n",
    "clear_output(wait=False)\n"
   ]
  },
  {
   "cell_type": "code",
   "execution_count": 38,
   "metadata": {},
   "outputs": [],
   "source": [
    "df_all['rewards_rbc'] = rewards"
   ]
  },
  {
   "cell_type": "code",
   "execution_count": 51,
   "metadata": {},
   "outputs": [],
   "source": [
    "df_all.to_csv(path+'offline_rbc_df.csv')"
   ]
  },
  {
   "cell_type": "code",
   "execution_count": 57,
   "metadata": {},
   "outputs": [
    {
     "data": {
      "text/plain": [
       "0      [0, 0, 0, 0, 0, 0.15, 0.15, 0.15, 0.15, 0.15, ...\n",
       "1      [0, 0, 0, 0, 0, 0.15, 0.15, 0.15, 0.15, 0.15, ...\n",
       "2      [0, 0, 0, 0, 0, 0.15, 0.15, 0.15, 0.15, 0.15, ...\n",
       "3      [0, 0, 0, 0, 0, 0.15, 0.15, 0.15, 0.15, 0.15, ...\n",
       "4      [0, 0, 0, 0, 0, 0.15, 0.15, 0.15, 0.15, 0.15, ...\n",
       "                             ...                        \n",
       "282    [0, 0, 0, 0, 0, 0.15, 0.15, 0.15, 0.15, 0.15, ...\n",
       "283    [0, 0, 0, 0, 0, 0.15, 0.15, 0.15, 0.15, 0.15, ...\n",
       "284    [0, 0, 0, 0, 0, 0.15, 0.15, 0.15, 0.15, 0.15, ...\n",
       "285    [0, 0, 0, 0, 0, 0.15, 0.15, 0.15, 0.15, 0.15, ...\n",
       "286    [0, 0, 0, 0, 0, 0.15, 0.15, 0.15, 0.15, 0.15, ...\n",
       "Name: action, Length: 287, dtype: object"
      ]
     },
     "execution_count": 57,
     "metadata": {},
     "output_type": "execute_result"
    }
   ],
   "source": []
  },
  {
   "cell_type": "code",
   "execution_count": 63,
   "metadata": {},
   "outputs": [
    {
     "data": {
      "text/plain": [
       "0        0.0\n",
       "1        0.0\n",
       "2        0.0\n",
       "3        0.0\n",
       "4        0.0\n",
       "        ... \n",
       "26685    0.0\n",
       "26686    0.0\n",
       "26687    0.0\n",
       "26688    0.0\n",
       "26689    0.0\n",
       "Name: act, Length: 26690, dtype: float64"
      ]
     },
     "execution_count": 63,
     "metadata": {},
     "output_type": "execute_result"
    }
   ],
   "source": [
    "data_pd['act'] = data_pd['action'].map(lambda x: x[0])\n",
    "data_pd['act']"
   ]
  }
 ],
 "metadata": {
  "kernelspec": {
   "display_name": "Python 3.9.13 ('data_science')",
   "language": "python",
   "name": "python3"
  },
  "language_info": {
   "codemirror_mode": {
    "name": "ipython",
    "version": 3
   },
   "file_extension": ".py",
   "mimetype": "text/x-python",
   "name": "python",
   "nbconvert_exporter": "python",
   "pygments_lexer": "ipython3",
   "version": "3.9.13"
  },
  "orig_nbformat": 4,
  "vscode": {
   "interpreter": {
    "hash": "b4e527a19ff6dc605d5d714cea143c24c810a36b46ddd401a36c6a6f17335038"
   }
  }
 },
 "nbformat": 4,
 "nbformat_minor": 2
}
