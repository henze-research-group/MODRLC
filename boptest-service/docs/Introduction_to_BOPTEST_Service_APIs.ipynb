{
  "nbformat": 4,
  "nbformat_minor": 0,
  "metadata": {
    "colab": {
      "provenance": [],
      "collapsed_sections": []
    },
    "kernelspec": {
      "name": "python3",
      "display_name": "Python 3"
    },
    "language_info": {
      "name": "python"
    }
  },
  "cells": [
    {
      "cell_type": "markdown",
      "metadata": {
        "id": "view-in-github",
        "colab_type": "text"
      },
      "source": [
        "<a href=\"https://colab.research.google.com/github/NREL/boptest-service/blob/develop/docs/Introduction_to_BOPTEST_Service_APIs.ipynb\" target=\"_parent\"><img src=\"https://colab.research.google.com/assets/colab-badge.svg\" alt=\"Open In Colab\"/></a>"
      ]
    },
    {
      "cell_type": "markdown",
      "source": [
        "# BOPTEST Service APIs\n",
        "\n",
        "This is an introduction to the BOPTEST-Service APIs.\n"
      ],
      "metadata": {
        "id": "sY9FCj3WMn-w"
      }
    },
    {
      "cell_type": "code",
      "source": [
        "import requests\n",
        "import json\n",
        "\n",
        "BOPTEST_URL = 'https://api.boptest.net'\n",
        "\n",
        "def pretty_print(json_message):\n",
        "    print(json.dumps(json_message, indent=2))"
      ],
      "metadata": {
        "id": "7nZjDXLxM6Y7"
      },
      "execution_count": 17,
      "outputs": []
    },
    {
      "cell_type": "markdown",
      "source": [
        "## List the available test cases\n"
      ],
      "metadata": {
        "id": "5NIeKvkIMuoc"
      }
    },
    {
      "cell_type": "code",
      "execution_count": 18,
      "metadata": {
        "colab": {
          "base_uri": "https://localhost:8080/"
        },
        "id": "aiKANXkxIhUB",
        "outputId": "40358c67-8614-478e-92ad-22f7b4363a84"
      },
      "outputs": [
        {
          "output_type": "stream",
          "name": "stdout",
          "text": [
            "[\n",
            "  {\n",
            "    \"testcaseid\": \"bestest_air\"\n",
            "  },\n",
            "  {\n",
            "    \"testcaseid\": \"bestest_hydronic\"\n",
            "  },\n",
            "  {\n",
            "    \"testcaseid\": \"bestest_hydronic_heat_pump\"\n",
            "  },\n",
            "  {\n",
            "    \"testcaseid\": \"multizone_residential_hydronic\"\n",
            "  },\n",
            "  {\n",
            "    \"testcaseid\": \"singlezone_commercial_hydronic\"\n",
            "  },\n",
            "  {\n",
            "    \"testcaseid\": \"testcase1\"\n",
            "  },\n",
            "  {\n",
            "    \"testcaseid\": \"testcase2\"\n",
            "  },\n",
            "  {\n",
            "    \"testcaseid\": \"testcase3\"\n",
            "  }\n",
            "]\n"
          ]
        }
      ],
      "source": [
        "all_testcases = requests.get(f\"{BOPTEST_URL}/testcases\")\n",
        "pretty_print(all_testcases.json()[:8]) # Printing out the first eight testcases"
      ]
    },
    {
      "cell_type": "markdown",
      "source": [
        "## Select a test case\n",
        "\n",
        "The POST `testcases/{testcase_name}/select` API is used to select a test case. A unique `test_id` is returned and used as a reference to the test in subsequent API calls.\n"
      ],
      "metadata": {
        "id": "NttMneB-UBWQ"
      }
    },
    {
      "cell_type": "code",
      "source": [
        "testcase_name = \"bestest_hydronic_heat_pump\"\n",
        "\n",
        "test_id = requests.post(f\"{BOPTEST_URL}/testcases/{testcase_name}/select\").json()['testid']\n",
        "print(f\"The test id for this particular test is {test_id}.\")"
      ],
      "metadata": {
        "id": "G8f9m6M_NTkg",
        "outputId": "c5c34505-8f1b-47c5-91c1-b47aa5caecf5",
        "colab": {
          "base_uri": "https://localhost:8080/"
        }
      },
      "execution_count": 19,
      "outputs": [
        {
          "output_type": "stream",
          "name": "stdout",
          "text": [
            "The test id for this particular test is abfa0efa-3096-4062-8b04-c8268e0b08f8.\n"
          ]
        }
      ]
    },
    {
      "cell_type": "markdown",
      "source": [
        "## Select the test scenario\n",
        "\n",
        "Scenarios are pre-defined time periods and conditions for each test. Setting a scenario will initialize the test to start at the beginning of the pre-defined time period. The available scenarios for each BOPTEST test case is provided in the [BOPTEST documentation](https://ibpsa.github.io/project1-boptest/testcases/index.html). For example, the \"bestest_hydronic_heat_pump\" we are using in this tutorial has the following time periods and conditions available for scenario.  \n",
        "\n",
        "Time periods:\n",
        "1. peak_heat_day\n",
        "2. typical_heat_day\n",
        "\n",
        "Electricity prices:\n",
        "1. constant\n",
        "2. dynamic\n",
        "3. highly_dynamic\n",
        "\n",
        "The PUT `/scenario` API is used to select a test scenario."
      ],
      "metadata": {
        "id": "iLvUA_zAu0_C"
      }
    },
    {
      "cell_type": "code",
      "source": [
        "# Initialize using /scenario\n",
        "y = requests.put(f'{BOPTEST_URL}/scenario/{test_id}', \n",
        "                 data={'time_period':'peak_heat_day',\n",
        "                       'electricity_price':'constant'}).json()['payload']\n",
        "pretty_print(y)"
      ],
      "metadata": {
        "id": "sq2-G0hM0Sa7",
        "outputId": "d0963725-651f-4acf-c5df-c4ab1a97dfce",
        "colab": {
          "base_uri": "https://localhost:8080/"
        }
      },
      "execution_count": 20,
      "outputs": [
        {
          "output_type": "stream",
          "name": "stdout",
          "text": [
            "{\n",
            "  \"electricity_price\": \"constant\",\n",
            "  \"time_period\": {\n",
            "    \"ovePum_activate\": 0,\n",
            "    \"weaSta_reaWeaNOpa_y\": 0.2,\n",
            "    \"reaPFan_y\": 510.20408163265313,\n",
            "    \"oveTSet_u\": 294.34999999999997,\n",
            "    \"reaQHeaPumCon_y\": 7386.771485507761,\n",
            "    \"reaTRet_y\": 302.40029127477544,\n",
            "    \"weaSta_reaWeaPAtm_y\": 101325,\n",
            "    \"weaSta_reaWeaTBlaSky_y\": 260.82015225846817,\n",
            "    \"reaQHeaPumEva_y\": -5001.493945256057,\n",
            "    \"weaSta_reaWeaNTot_y\": 0.2,\n",
            "    \"weaSta_reaWeaSolAlt_y\": -1.0200406146124426,\n",
            "    \"reaTZon_y\": 294.4643919860063,\n",
            "    \"weaSta_reaWeaHHorIR_y\": 262,\n",
            "    \"weaSta_reaWeaSolTim_y\": 1379289.1064134557,\n",
            "    \"oveHeaPumY_u\": 0.6283099681151593,\n",
            "    \"weaSta_reaWeaCloTim_y\": 1382400,\n",
            "    \"oveHeaPumY_activate\": 0,\n",
            "    \"reaPPumEmi_y\": 20.498644281163177,\n",
            "    \"weaSta_reaWeaHGloHor_y\": 0,\n",
            "    \"weaSta_reaWeaHDifHor_y\": 0,\n",
            "    \"oveTSet_activate\": 0,\n",
            "    \"weaSta_reaWeaRelHum_y\": 0.9,\n",
            "    \"reaTSetHea_y\": 294.15,\n",
            "    \"reaCO2RooAir_y\": 754.1571682156247,\n",
            "    \"weaSta_reaWeaSolDec_y\": -0.36698636938254725,\n",
            "    \"ovePum_u\": 1,\n",
            "    \"reaPHeaPum_y\": 2385.2775401827284,\n",
            "    \"weaSta_reaWeaHDirNor_y\": 0,\n",
            "    \"reaTSetCoo_y\": 297.15,\n",
            "    \"weaSta_reaWeaWinDir_y\": 4.537856055185257,\n",
            "    \"reaTSup_y\": 305.9403984777304,\n",
            "    \"weaSta_reaWeaSolZen_y\": 2.590836941407339,\n",
            "    \"reaQFloHea_y\": 7445.464652900132,\n",
            "    \"reaCOP_y\": 3.096818446100777,\n",
            "    \"weaSta_reaWeaTWetBul_y\": 274.04854504120533,\n",
            "    \"weaSta_reaWeaTDewPoi_y\": 273.25,\n",
            "    \"weaSta_reaWeaWinSpe_y\": 3.6,\n",
            "    \"weaSta_reaWeaLon_y\": 0.07906341511534314,\n",
            "    \"time\": 1382400,\n",
            "    \"weaSta_reaWeaLat_y\": 0.8883725892651138,\n",
            "    \"weaSta_reaWeaTDryBul_y\": 274.65,\n",
            "    \"weaSta_reaWeaCeiHei_y\": 22000,\n",
            "    \"weaSta_reaWeaSolHouAng_y\": 97.1631416955987,\n",
            "    \"oveFan_activate\": 0,\n",
            "    \"oveFan_u\": 1\n",
            "  }\n",
            "}\n"
          ]
        }
      ]
    },
    {
      "cell_type": "markdown",
      "source": [
        "## Test measurements\n",
        "\n",
        "Measurements refer to the outputs from the test case model. Measurements are like properties that define the model state. Each test case has its specific set of measurements. You can check what measurements are available for a test with the GET `/measurements` request. \n",
        "\n",
        "The API response will tell you what are \n",
        "1. The minimum values for the measurement.\n",
        "2. A short description of the measurement, \n",
        "3. The measurement unit.\n",
        "4. The maximum value for the measurement. "
      ],
      "metadata": {
        "id": "OI0dPty_Ta-g"
      }
    },
    {
      "cell_type": "code",
      "source": [
        "measurements = requests.get(f'{BOPTEST_URL}/measurements/{test_id}').json()['payload']\n",
        "pretty_print(measurements)"
      ],
      "metadata": {
        "colab": {
          "base_uri": "https://localhost:8080/"
        },
        "id": "gOhSCHDTgdhU",
        "outputId": "ba5095d7-46ed-45aa-edf8-9c5f29bf845d"
      },
      "execution_count": 21,
      "outputs": [
        {
          "output_type": "stream",
          "name": "stdout",
          "text": [
            "{\n",
            "  \"weaSta_reaWeaPAtm_y\": {\n",
            "    \"Minimum\": null,\n",
            "    \"Description\": \"Atmospheric pressure measurement\",\n",
            "    \"Unit\": \"Pa\",\n",
            "    \"Maximum\": null\n",
            "  },\n",
            "  \"reaPFan_y\": {\n",
            "    \"Minimum\": null,\n",
            "    \"Description\": \"Electrical power of the heat pump evaporator fan\",\n",
            "    \"Unit\": \"W\",\n",
            "    \"Maximum\": null\n",
            "  },\n",
            "  \"reaQHeaPumCon_y\": {\n",
            "    \"Minimum\": null,\n",
            "    \"Description\": \"Heat pump thermal power exchanged in the condenser\",\n",
            "    \"Unit\": \"W\",\n",
            "    \"Maximum\": null\n",
            "  },\n",
            "  \"reaTRet_y\": {\n",
            "    \"Minimum\": null,\n",
            "    \"Description\": \"Return water temperature from radiant floor\",\n",
            "    \"Unit\": \"K\",\n",
            "    \"Maximum\": null\n",
            "  },\n",
            "  \"weaSta_reaWeaNOpa_y\": {\n",
            "    \"Minimum\": null,\n",
            "    \"Description\": \"Opaque sky cover measurement\",\n",
            "    \"Unit\": \"1\",\n",
            "    \"Maximum\": null\n",
            "  },\n",
            "  \"weaSta_reaWeaTBlaSky_y\": {\n",
            "    \"Minimum\": null,\n",
            "    \"Description\": \"Black-body sky temperature measurement\",\n",
            "    \"Unit\": \"K\",\n",
            "    \"Maximum\": null\n",
            "  },\n",
            "  \"reaQHeaPumEva_y\": {\n",
            "    \"Minimum\": null,\n",
            "    \"Description\": \"Heat pump thermal power exchanged in the evaporator\",\n",
            "    \"Unit\": \"W\",\n",
            "    \"Maximum\": null\n",
            "  },\n",
            "  \"weaSta_reaWeaNTot_y\": {\n",
            "    \"Minimum\": null,\n",
            "    \"Description\": \"Sky cover measurement\",\n",
            "    \"Unit\": \"1\",\n",
            "    \"Maximum\": null\n",
            "  },\n",
            "  \"weaSta_reaWeaSolAlt_y\": {\n",
            "    \"Minimum\": null,\n",
            "    \"Description\": \"Solar altitude angle measurement\",\n",
            "    \"Unit\": \"rad\",\n",
            "    \"Maximum\": null\n",
            "  },\n",
            "  \"reaTZon_y\": {\n",
            "    \"Minimum\": null,\n",
            "    \"Description\": \"Zone operative temperature\",\n",
            "    \"Unit\": \"K\",\n",
            "    \"Maximum\": null\n",
            "  },\n",
            "  \"weaSta_reaWeaHHorIR_y\": {\n",
            "    \"Minimum\": null,\n",
            "    \"Description\": \"Horizontal infrared irradiation measurement\",\n",
            "    \"Unit\": \"W/m2\",\n",
            "    \"Maximum\": null\n",
            "  },\n",
            "  \"weaSta_reaWeaLon_y\": {\n",
            "    \"Minimum\": null,\n",
            "    \"Description\": \"Longitude of the location\",\n",
            "    \"Unit\": \"rad\",\n",
            "    \"Maximum\": null\n",
            "  },\n",
            "  \"weaSta_reaWeaSolTim_y\": {\n",
            "    \"Minimum\": null,\n",
            "    \"Description\": \"Solar time\",\n",
            "    \"Unit\": \"s\",\n",
            "    \"Maximum\": null\n",
            "  },\n",
            "  \"weaSta_reaWeaCloTim_y\": {\n",
            "    \"Minimum\": null,\n",
            "    \"Description\": \"Day number with units of seconds\",\n",
            "    \"Unit\": \"s\",\n",
            "    \"Maximum\": null\n",
            "  },\n",
            "  \"reaPPumEmi_y\": {\n",
            "    \"Minimum\": null,\n",
            "    \"Description\": \"Emission circuit pump electrical power\",\n",
            "    \"Unit\": \"W\",\n",
            "    \"Maximum\": null\n",
            "  },\n",
            "  \"weaSta_reaWeaHGloHor_y\": {\n",
            "    \"Minimum\": null,\n",
            "    \"Description\": \"Global horizontal solar irradiation measurement\",\n",
            "    \"Unit\": \"W/m2\",\n",
            "    \"Maximum\": null\n",
            "  },\n",
            "  \"weaSta_reaWeaHDifHor_y\": {\n",
            "    \"Minimum\": null,\n",
            "    \"Description\": \"Horizontal diffuse solar radiation measurement\",\n",
            "    \"Unit\": \"W/m2\",\n",
            "    \"Maximum\": null\n",
            "  },\n",
            "  \"weaSta_reaWeaRelHum_y\": {\n",
            "    \"Minimum\": null,\n",
            "    \"Description\": \"Outside relative humidity measurement\",\n",
            "    \"Unit\": \"1\",\n",
            "    \"Maximum\": null\n",
            "  },\n",
            "  \"reaTSetHea_y\": {\n",
            "    \"Minimum\": null,\n",
            "    \"Description\": \"Zone operative temperature setpoint for heating\",\n",
            "    \"Unit\": \"K\",\n",
            "    \"Maximum\": null\n",
            "  },\n",
            "  \"reaCO2RooAir_y\": {\n",
            "    \"Minimum\": null,\n",
            "    \"Description\": \"CO2 concentration in the zone\",\n",
            "    \"Unit\": \"ppm\",\n",
            "    \"Maximum\": null\n",
            "  },\n",
            "  \"weaSta_reaWeaSolDec_y\": {\n",
            "    \"Minimum\": null,\n",
            "    \"Description\": \"Solar declination angle measurement\",\n",
            "    \"Unit\": \"rad\",\n",
            "    \"Maximum\": null\n",
            "  },\n",
            "  \"reaPHeaPum_y\": {\n",
            "    \"Minimum\": null,\n",
            "    \"Description\": \"Heat pump electrical power\",\n",
            "    \"Unit\": \"W\",\n",
            "    \"Maximum\": null\n",
            "  },\n",
            "  \"weaSta_reaWeaHDirNor_y\": {\n",
            "    \"Minimum\": null,\n",
            "    \"Description\": \"Direct normal radiation measurement\",\n",
            "    \"Unit\": \"W/m2\",\n",
            "    \"Maximum\": null\n",
            "  },\n",
            "  \"reaTSetCoo_y\": {\n",
            "    \"Minimum\": null,\n",
            "    \"Description\": \"Zone operative temperature setpoint for cooling\",\n",
            "    \"Unit\": \"K\",\n",
            "    \"Maximum\": null\n",
            "  },\n",
            "  \"weaSta_reaWeaWinDir_y\": {\n",
            "    \"Minimum\": null,\n",
            "    \"Description\": \"Wind direction measurement\",\n",
            "    \"Unit\": \"rad\",\n",
            "    \"Maximum\": null\n",
            "  },\n",
            "  \"reaTSup_y\": {\n",
            "    \"Minimum\": null,\n",
            "    \"Description\": \"Supply water temperature to radiant floor\",\n",
            "    \"Unit\": \"K\",\n",
            "    \"Maximum\": null\n",
            "  },\n",
            "  \"weaSta_reaWeaSolZen_y\": {\n",
            "    \"Minimum\": null,\n",
            "    \"Description\": \"Solar zenith angle measurement\",\n",
            "    \"Unit\": \"rad\",\n",
            "    \"Maximum\": null\n",
            "  },\n",
            "  \"reaQFloHea_y\": {\n",
            "    \"Minimum\": null,\n",
            "    \"Description\": \"Floor heating thermal power released to the zone\",\n",
            "    \"Unit\": \"W\",\n",
            "    \"Maximum\": null\n",
            "  },\n",
            "  \"reaCOP_y\": {\n",
            "    \"Minimum\": null,\n",
            "    \"Description\": \"Heat pump COP\",\n",
            "    \"Unit\": \"1\",\n",
            "    \"Maximum\": null\n",
            "  },\n",
            "  \"weaSta_reaWeaTDryBul_y\": {\n",
            "    \"Minimum\": null,\n",
            "    \"Description\": \"Outside drybulb temperature measurement\",\n",
            "    \"Unit\": \"K\",\n",
            "    \"Maximum\": null\n",
            "  },\n",
            "  \"weaSta_reaWeaTWetBul_y\": {\n",
            "    \"Minimum\": null,\n",
            "    \"Description\": \"Wet bulb temperature measurement\",\n",
            "    \"Unit\": \"K\",\n",
            "    \"Maximum\": null\n",
            "  },\n",
            "  \"weaSta_reaWeaTDewPoi_y\": {\n",
            "    \"Minimum\": null,\n",
            "    \"Description\": \"Dew point temperature measurement\",\n",
            "    \"Unit\": \"K\",\n",
            "    \"Maximum\": null\n",
            "  },\n",
            "  \"weaSta_reaWeaWinSpe_y\": {\n",
            "    \"Minimum\": null,\n",
            "    \"Description\": \"Wind speed measurement\",\n",
            "    \"Unit\": \"m/s\",\n",
            "    \"Maximum\": null\n",
            "  },\n",
            "  \"weaSta_reaWeaLat_y\": {\n",
            "    \"Minimum\": null,\n",
            "    \"Description\": \"Latitude of the location\",\n",
            "    \"Unit\": \"rad\",\n",
            "    \"Maximum\": null\n",
            "  },\n",
            "  \"weaSta_reaWeaCeiHei_y\": {\n",
            "    \"Minimum\": null,\n",
            "    \"Description\": \"Cloud cover ceiling height measurement\",\n",
            "    \"Unit\": \"m\",\n",
            "    \"Maximum\": null\n",
            "  },\n",
            "  \"weaSta_reaWeaSolHouAng_y\": {\n",
            "    \"Minimum\": null,\n",
            "    \"Description\": \"Solar hour angle measurement\",\n",
            "    \"Unit\": \"rad\",\n",
            "    \"Maximum\": null\n",
            "  }\n",
            "}\n"
          ]
        }
      ]
    },
    {
      "cell_type": "markdown",
      "source": [
        "## Advance the test\n",
        "\n",
        "A test is moved forward in time by calling the `/advance` API.\n",
        "\n",
        "The response payload of the `/advance` API will return the values of the current measurements."
      ],
      "metadata": {
        "id": "C9FO-Iy-Toit"
      }
    },
    {
      "cell_type": "code",
      "source": [
        "# A basic advance step\n",
        "y = requests.post(f'{BOPTEST_URL}/advance/{test_id}').json()['payload']\n",
        "\n",
        "pretty_print(y)"
      ],
      "metadata": {
        "colab": {
          "base_uri": "https://localhost:8080/"
        },
        "id": "iblF7UW_sXi7",
        "outputId": "4fb5a180-8686-4f6d-edaf-d3cd9110f639"
      },
      "execution_count": 22,
      "outputs": [
        {
          "output_type": "stream",
          "name": "stdout",
          "text": [
            "{\n",
            "  \"ovePum_activate\": 0,\n",
            "  \"weaSta_reaWeaNOpa_y\": 0.6000000000000001,\n",
            "  \"reaPFan_y\": 510.20408163265313,\n",
            "  \"oveTSet_u\": 294.34999999999997,\n",
            "  \"reaQHeaPumCon_y\": 6496.430936371346,\n",
            "  \"reaTRet_y\": 302.1780288330197,\n",
            "  \"weaSta_reaWeaPAtm_y\": 101325,\n",
            "  \"weaSta_reaWeaTBlaSky_y\": 263.1259141058702,\n",
            "  \"reaQHeaPumEva_y\": -4322.109373135557,\n",
            "  \"weaSta_reaWeaNTot_y\": 0.6000000000000001,\n",
            "  \"weaSta_reaWeaSolAlt_y\": -1.0485334341454244,\n",
            "  \"reaTZon_y\": 294.55639797609035,\n",
            "  \"weaSta_reaWeaHHorIR_y\": 272,\n",
            "  \"weaSta_reaWeaSolTim_y\": 1382888.2797402868,\n",
            "  \"oveHeaPumY_u\": 0.5280734825493557,\n",
            "  \"weaSta_reaWeaCloTim_y\": 1386000,\n",
            "  \"oveHeaPumY_activate\": 0,\n",
            "  \"reaPPumEmi_y\": 20.498644281163177,\n",
            "  \"weaSta_reaWeaHGloHor_y\": 0,\n",
            "  \"weaSta_reaWeaHDifHor_y\": 0,\n",
            "  \"oveTSet_activate\": 0,\n",
            "  \"weaSta_reaWeaRelHum_y\": 0.89,\n",
            "  \"reaTSetHea_y\": 294.15,\n",
            "  \"reaCO2RooAir_y\": 775.9300128209737,\n",
            "  \"weaSta_reaWeaSolDec_y\": -0.36685410880578145,\n",
            "  \"ovePum_u\": 1,\n",
            "  \"reaPHeaPum_y\": 2174.321563211399,\n",
            "  \"weaSta_reaWeaHDirNor_y\": 0,\n",
            "  \"reaTSetCoo_y\": 297.15,\n",
            "  \"weaSta_reaWeaWinDir_y\": 4.363323129985824,\n",
            "  \"reaTSup_y\": 305.2951245675739,\n",
            "  \"weaSta_reaWeaSolZen_y\": 2.619329760940321,\n",
            "  \"reaQFloHea_y\": 6605.030365861501,\n",
            "  \"reaCOP_y\": 2.9877967667194265,\n",
            "  \"weaSta_reaWeaTWetBul_y\": 274.08486424837946,\n",
            "  \"weaSta_reaWeaTDewPoi_y\": 273.15,\n",
            "  \"weaSta_reaWeaWinSpe_y\": 3.1,\n",
            "  \"weaSta_reaWeaLon_y\": 0.07906341511534314,\n",
            "  \"time\": 1386000,\n",
            "  \"weaSta_reaWeaLat_y\": 0.8883725892651138,\n",
            "  \"weaSta_reaWeaTDryBul_y\": 274.75,\n",
            "  \"weaSta_reaWeaCeiHei_y\": 1500,\n",
            "  \"weaSta_reaWeaSolHouAng_y\": 97.42488096602852,\n",
            "  \"oveFan_activate\": 0,\n",
            "  \"oveFan_u\": 1\n",
            "}\n"
          ]
        }
      ]
    },
    {
      "cell_type": "markdown",
      "source": [
        "## Test inputs\n",
        "\n",
        "The GET `/inputs` API will return the input variables for the selected test case.\n",
        "\n",
        "The API response will tell you what are \n",
        "1. The minimum values for the variable.\n",
        "2. A short description of the variable, \n",
        "3. The unit for the variable.\n",
        "4. The maximum value for the variable. \n",
        "\n",
        " "
      ],
      "metadata": {
        "id": "KipWiffq-bPd"
      }
    },
    {
      "cell_type": "code",
      "source": [
        "# Get inputs available\n",
        "inputs = requests.get(f'{BOPTEST_URL}/inputs/{test_id}').json()['payload']\n",
        "\n",
        "pretty_print(inputs)"
      ],
      "metadata": {
        "colab": {
          "base_uri": "https://localhost:8080/"
        },
        "id": "BcrpwTyuK7Ij",
        "outputId": "5d90e9c8-9aec-4a58-fb84-e2a3120478b7"
      },
      "execution_count": 23,
      "outputs": [
        {
          "output_type": "stream",
          "name": "stdout",
          "text": [
            "{\n",
            "  \"oveTSet_activate\": {\n",
            "    \"Minimum\": null,\n",
            "    \"Description\": \"Activation for Zone operative temperature setpoint\",\n",
            "    \"Unit\": null,\n",
            "    \"Maximum\": null\n",
            "  },\n",
            "  \"ovePum_activate\": {\n",
            "    \"Minimum\": null,\n",
            "    \"Description\": \"Activation for Integer signal to control the emission circuit pump either on or off\",\n",
            "    \"Unit\": null,\n",
            "    \"Maximum\": null\n",
            "  },\n",
            "  \"ovePum_u\": {\n",
            "    \"Minimum\": 0,\n",
            "    \"Description\": \"Integer signal to control the emission circuit pump either on or off\",\n",
            "    \"Unit\": \"1\",\n",
            "    \"Maximum\": 1\n",
            "  },\n",
            "  \"oveHeaPumY_u\": {\n",
            "    \"Minimum\": 0,\n",
            "    \"Description\": \"Heat pump modulating signal for compressor speed between 0 (not working) and 1 (working at maximum capacity)\",\n",
            "    \"Unit\": \"1\",\n",
            "    \"Maximum\": 1\n",
            "  },\n",
            "  \"oveTSet_u\": {\n",
            "    \"Minimum\": 278.15,\n",
            "    \"Description\": \"Zone operative temperature setpoint\",\n",
            "    \"Unit\": \"K\",\n",
            "    \"Maximum\": 308.15\n",
            "  },\n",
            "  \"oveHeaPumY_activate\": {\n",
            "    \"Minimum\": null,\n",
            "    \"Description\": \"Activation for Heat pump modulating signal for compressor speed between 0 (not working) and 1 (working at maximum capacity)\",\n",
            "    \"Unit\": null,\n",
            "    \"Maximum\": null\n",
            "  },\n",
            "  \"oveFan_activate\": {\n",
            "    \"Minimum\": null,\n",
            "    \"Description\": \"Activation for Integer signal to control the heat pump evaporator fan either on or off\",\n",
            "    \"Unit\": null,\n",
            "    \"Maximum\": null\n",
            "  },\n",
            "  \"oveFan_u\": {\n",
            "    \"Minimum\": 0,\n",
            "    \"Description\": \"Integer signal to control the heat pump evaporator fan either on or off\",\n",
            "    \"Unit\": \"1\",\n",
            "    \"Maximum\": 1\n",
            "  }\n",
            "}\n"
          ]
        }
      ]
    },
    {
      "cell_type": "markdown",
      "source": [
        "## Set input values and advance\n",
        "\n",
        "\n",
        "The input variables can be set to desired values in a python dictionary, which is passed as an argument to the `/advance` API."
      ],
      "metadata": {
        "id": "KDRFpla6B55B"
      }
    },
    {
      "cell_type": "code",
      "source": [
        "# Example input dictionary\n",
        "u = {'oveHeaPumY_u':0.5,\n",
        "     'oveHeaPumY_activate': 1}\n",
        "\n",
        "# advance with u\n",
        "y = requests.post(f'{BOPTEST_URL}/advance/{test_id}', data=u).json()['payload']\n",
        "\n",
        "pretty_print(y)"
      ],
      "metadata": {
        "id": "abDNymhjCCU0",
        "outputId": "f4873aa9-9408-4540-be46-1249d6c1c3a8",
        "colab": {
          "base_uri": "https://localhost:8080/"
        }
      },
      "execution_count": 25,
      "outputs": [
        {
          "output_type": "stream",
          "name": "stdout",
          "text": [
            "{\n",
            "  \"ovePum_activate\": 0,\n",
            "  \"weaSta_reaWeaNOpa_y\": 0,\n",
            "  \"reaPFan_y\": 510.20408163265313,\n",
            "  \"oveTSet_u\": 294.34999999999997,\n",
            "  \"reaQHeaPumCon_y\": 6197.232442685376,\n",
            "  \"reaTRet_y\": 301.6817774604096,\n",
            "  \"weaSta_reaWeaPAtm_y\": 101325,\n",
            "  \"weaSta_reaWeaTBlaSky_y\": 258.3367101474463,\n",
            "  \"reaQHeaPumEva_y\": -4093.7235704880295,\n",
            "  \"weaSta_reaWeaNTot_y\": 0,\n",
            "  \"weaSta_reaWeaSolAlt_y\": -0.8903885648155656,\n",
            "  \"reaTZon_y\": 294.5382983159215,\n",
            "  \"weaSta_reaWeaHHorIR_y\": 253,\n",
            "  \"weaSta_reaWeaSolTim_y\": 1390086.6295405712,\n",
            "  \"oveHeaPumY_u\": 0.5,\n",
            "  \"weaSta_reaWeaCloTim_y\": 1393200,\n",
            "  \"oveHeaPumY_activate\": 1,\n",
            "  \"reaPPumEmi_y\": 20.498644281163177,\n",
            "  \"weaSta_reaWeaHGloHor_y\": 0,\n",
            "  \"weaSta_reaWeaHDifHor_y\": 0,\n",
            "  \"oveTSet_activate\": 0,\n",
            "  \"weaSta_reaWeaRelHum_y\": 0.86,\n",
            "  \"reaTSetHea_y\": 294.15,\n",
            "  \"reaCO2RooAir_y\": 797.1465635321247,\n",
            "  \"weaSta_reaWeaSolDec_y\": -0.36658901571136265,\n",
            "  \"ovePum_u\": 1,\n",
            "  \"reaPHeaPum_y\": 2103.508872139368,\n",
            "  \"weaSta_reaWeaHDirNor_y\": 0,\n",
            "  \"reaTSetCoo_y\": 297.15,\n",
            "  \"weaSta_reaWeaWinDir_y\": 4.537856055185257,\n",
            "  \"reaTSup_y\": 304.6473290034077,\n",
            "  \"weaSta_reaWeaSolZen_y\": 2.461184891610462,\n",
            "  \"reaQFloHea_y\": 6255.16350677691,\n",
            "  \"reaCOP_y\": 2.9461403870298377,\n",
            "  \"weaSta_reaWeaTWetBul_y\": 273.6127588624062,\n",
            "  \"weaSta_reaWeaTDewPoi_y\": 272.45,\n",
            "  \"weaSta_reaWeaWinSpe_y\": 3.1,\n",
            "  \"weaSta_reaWeaLon_y\": 0.07906341511534314,\n",
            "  \"time\": 1393200,\n",
            "  \"weaSta_reaWeaLat_y\": 0.8883725892651138,\n",
            "  \"weaSta_reaWeaTDryBul_y\": 274.45,\n",
            "  \"weaSta_reaWeaCeiHei_y\": 22000,\n",
            "  \"weaSta_reaWeaSolHouAng_y\": 97.94835973571703,\n",
            "  \"oveFan_activate\": 0,\n",
            "  \"oveFan_u\": 1\n",
            "}\n"
          ]
        }
      ]
    },
    {
      "cell_type": "markdown",
      "source": [
        "## Stop the test\n",
        "\n",
        "The PUT `/stop` request will stop the test case as shown below. From this point forward the `test_id` will be invalid."
      ],
      "metadata": {
        "id": "VSuiZTEpyvzQ"
      }
    },
    {
      "cell_type": "code",
      "source": [
        "stop_response = requests.put(f\"{BOPTEST_URL}/stop/{test_id}\")\n",
        "if stop_response.status_code == 200:\n",
        "  print(\"Successfully stopped the test!\")\n",
        "else:\n",
        "  print(f\"Couldn't stop test with status code: {stop_response.status_code}!\")\n"
      ],
      "metadata": {
        "colab": {
          "base_uri": "https://localhost:8080/"
        },
        "id": "VLsLSESXaooJ",
        "outputId": "3c515835-07ec-4245-dbf8-824e2796e29c"
      },
      "execution_count": 26,
      "outputs": [
        {
          "output_type": "stream",
          "name": "stdout",
          "text": [
            "Successfully stopped the test!\n"
          ]
        }
      ]
    }
  ]
}
